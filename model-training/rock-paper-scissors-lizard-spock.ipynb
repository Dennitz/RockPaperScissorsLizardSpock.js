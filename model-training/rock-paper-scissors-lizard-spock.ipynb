{
 "cells": [
  {
   "cell_type": "markdown",
   "metadata": {},
   "source": [
    "## RockPaperScissorsLizardSpock.js"
   ]
  },
  {
   "cell_type": "markdown",
   "metadata": {},
   "source": [
    "In this notebook we will finetune a SqueezeNet pretrained on ImageNet to classify between the classes 'rock', 'paper', 'scissors', 'lizard', 'spock' and 'other'."
   ]
  },
  {
   "cell_type": "markdown",
   "metadata": {},
   "source": [
    "### Data setup"
   ]
  },
  {
   "cell_type": "markdown",
   "metadata": {},
   "source": [
    "There should already be a folder for each class in `./data/train/`. E.g. all `rock` images should be in `./data/train/rock`"
   ]
  },
  {
   "cell_type": "code",
   "execution_count": 1,
   "metadata": {
    "collapsed": true
   },
   "outputs": [],
   "source": [
    "import os\n",
    "import numpy as np"
   ]
  },
  {
   "cell_type": "code",
   "execution_count": 2,
   "metadata": {
    "collapsed": true
   },
   "outputs": [],
   "source": [
    "data_dir = './data/'\n",
    "model_dir = data_dir + 'models/'\n",
    "train_dir = data_dir + 'train/'\n",
    "val_dir = data_dir + 'val/'"
   ]
  },
  {
   "cell_type": "markdown",
   "metadata": {},
   "source": [
    "The output of the next cell should be (in any order) `['lizard', 'spock', 'other', 'paper', 'scissors', 'rock']`"
   ]
  },
  {
   "cell_type": "code",
   "execution_count": 3,
   "metadata": {},
   "outputs": [
    {
     "data": {
      "text/plain": [
       "['lizard', 'spock', 'other', 'paper', 'scissors', 'rock']"
      ]
     },
     "execution_count": 3,
     "metadata": {},
     "output_type": "execute_result"
    }
   ],
   "source": [
    "classes = os.listdir(train_dir)\n",
    "num_classes = len(classes)\n",
    "classes"
   ]
  },
  {
   "cell_type": "code",
   "execution_count": null,
   "metadata": {
    "collapsed": true
   },
   "outputs": [],
   "source": [
    "os.makedirs(model_dir, exist_ok=True)"
   ]
  },
  {
   "cell_type": "markdown",
   "metadata": {},
   "source": [
    "Create a train/validation split. "
   ]
  },
  {
   "cell_type": "code",
   "execution_count": 19,
   "metadata": {
    "collapsed": true
   },
   "outputs": [],
   "source": [
    "os.makedirs(val_dir, exist_ok=True)"
   ]
  },
  {
   "cell_type": "code",
   "execution_count": 20,
   "metadata": {
    "collapsed": true
   },
   "outputs": [],
   "source": [
    "for c in categories:\n",
    "    os.makedirs(val_dir + c, exist_ok=True)"
   ]
  },
  {
   "cell_type": "code",
   "execution_count": 21,
   "metadata": {
    "collapsed": true
   },
   "outputs": [],
   "source": [
    "def make_val_split(p):\n",
    "    \"\"\"\n",
    "    Move random images of each category from train to val.\n",
    "    p is the percentage of images to move, e.g.\n",
    "    p == 0.2 will move 20% of each category to val.\n",
    "    \"\"\"\n",
    "    for c in categories:\n",
    "        file_names = os.listdir(train_dir + c)\n",
    "        permutation = np.random.permutation(file_names)\n",
    "        for i in range(int(len(file_names)*p)):\n",
    "            file_path = os.path.join(c, permutation[i])\n",
    "            os.rename(os.path.join(train_dir, file_path), \n",
    "                      os.path.join(val_dir, file_path))"
   ]
  },
  {
   "cell_type": "code",
   "execution_count": 22,
   "metadata": {
    "collapsed": true
   },
   "outputs": [],
   "source": [
    "# only do this once\n",
    "make_val_split(0.2)"
   ]
  },
  {
   "cell_type": "markdown",
   "metadata": {},
   "source": [
    "### Create and train the model"
   ]
  },
  {
   "cell_type": "code",
   "execution_count": 4,
   "metadata": {},
   "outputs": [
    {
     "name": "stderr",
     "output_type": "stream",
     "text": [
      "Using TensorFlow backend.\n"
     ]
    }
   ],
   "source": [
    "import numpy as np\n",
    "from keras_squeezenet import SqueezeNet\n",
    "from keras.applications.imagenet_utils import preprocess_input\n",
    "from keras.preprocessing.image import ImageDataGenerator\n",
    "from keras.layers import Convolution2D, Dropout, Activation, GlobalAveragePooling2D\n",
    "from keras.models import Model"
   ]
  },
  {
   "cell_type": "markdown",
   "metadata": {},
   "source": [
    "We will use SqueezeNet but replace its top layers (the classification layers) to classify between 'rock', 'paper', 'scissors', 'lizard', 'spock' and 'other' and not between the 1000 ImageNet classes."
   ]
  },
  {
   "cell_type": "code",
   "execution_count": 5,
   "metadata": {
    "collapsed": true
   },
   "outputs": [],
   "source": [
    "def get_model():\n",
    "    base_model = SqueezeNet(weights='imagenet', include_top=False, input_shape=(227,227,3))\n",
    "    x = base_model.output\n",
    "    x = Dropout(0.5, name='drop9')(x)\n",
    "    x = Convolution2D(num_classes, (1, 1), padding='valid', name='conv10')(x)\n",
    "    x = Activation('relu', name='relu_conv10')(x)\n",
    "    x = GlobalAveragePooling2D()(x)\n",
    "\n",
    "    predictions = Activation('softmax', name='predictions')(x)\n",
    "\n",
    "    return Model(inputs=base_model.input, outputs=predictions)"
   ]
  },
  {
   "cell_type": "code",
   "execution_count": 6,
   "metadata": {
    "collapsed": true
   },
   "outputs": [],
   "source": [
    "model = get_model()"
   ]
  },
  {
   "cell_type": "code",
   "execution_count": 8,
   "metadata": {},
   "outputs": [
    {
     "name": "stdout",
     "output_type": "stream",
     "text": [
      "__________________________________________________________________________________________________\n",
      "Layer (type)                    Output Shape         Param #     Connected to                     \n",
      "==================================================================================================\n",
      "input_1 (InputLayer)            (None, 227, 227, 3)  0                                            \n",
      "__________________________________________________________________________________________________\n",
      "conv1 (Conv2D)                  (None, 113, 113, 64) 1792        input_1[0][0]                    \n",
      "__________________________________________________________________________________________________\n",
      "relu_conv1 (Activation)         (None, 113, 113, 64) 0           conv1[0][0]                      \n",
      "__________________________________________________________________________________________________\n",
      "pool1 (MaxPooling2D)            (None, 56, 56, 64)   0           relu_conv1[0][0]                 \n",
      "__________________________________________________________________________________________________\n",
      "fire2/squeeze1x1 (Conv2D)       (None, 56, 56, 16)   1040        pool1[0][0]                      \n",
      "__________________________________________________________________________________________________\n",
      "fire2/relu_squeeze1x1 (Activati (None, 56, 56, 16)   0           fire2/squeeze1x1[0][0]           \n",
      "__________________________________________________________________________________________________\n",
      "fire2/expand1x1 (Conv2D)        (None, 56, 56, 64)   1088        fire2/relu_squeeze1x1[0][0]      \n",
      "__________________________________________________________________________________________________\n",
      "fire2/expand3x3 (Conv2D)        (None, 56, 56, 64)   9280        fire2/relu_squeeze1x1[0][0]      \n",
      "__________________________________________________________________________________________________\n",
      "fire2/relu_expand1x1 (Activatio (None, 56, 56, 64)   0           fire2/expand1x1[0][0]            \n",
      "__________________________________________________________________________________________________\n",
      "fire2/relu_expand3x3 (Activatio (None, 56, 56, 64)   0           fire2/expand3x3[0][0]            \n",
      "__________________________________________________________________________________________________\n",
      "fire2/concat (Concatenate)      (None, 56, 56, 128)  0           fire2/relu_expand1x1[0][0]       \n",
      "                                                                 fire2/relu_expand3x3[0][0]       \n",
      "__________________________________________________________________________________________________\n",
      "fire3/squeeze1x1 (Conv2D)       (None, 56, 56, 16)   2064        fire2/concat[0][0]               \n",
      "__________________________________________________________________________________________________\n",
      "fire3/relu_squeeze1x1 (Activati (None, 56, 56, 16)   0           fire3/squeeze1x1[0][0]           \n",
      "__________________________________________________________________________________________________\n",
      "fire3/expand1x1 (Conv2D)        (None, 56, 56, 64)   1088        fire3/relu_squeeze1x1[0][0]      \n",
      "__________________________________________________________________________________________________\n",
      "fire3/expand3x3 (Conv2D)        (None, 56, 56, 64)   9280        fire3/relu_squeeze1x1[0][0]      \n",
      "__________________________________________________________________________________________________\n",
      "fire3/relu_expand1x1 (Activatio (None, 56, 56, 64)   0           fire3/expand1x1[0][0]            \n",
      "__________________________________________________________________________________________________\n",
      "fire3/relu_expand3x3 (Activatio (None, 56, 56, 64)   0           fire3/expand3x3[0][0]            \n",
      "__________________________________________________________________________________________________\n",
      "fire3/concat (Concatenate)      (None, 56, 56, 128)  0           fire3/relu_expand1x1[0][0]       \n",
      "                                                                 fire3/relu_expand3x3[0][0]       \n",
      "__________________________________________________________________________________________________\n",
      "pool3 (MaxPooling2D)            (None, 27, 27, 128)  0           fire3/concat[0][0]               \n",
      "__________________________________________________________________________________________________\n",
      "fire4/squeeze1x1 (Conv2D)       (None, 27, 27, 32)   4128        pool3[0][0]                      \n",
      "__________________________________________________________________________________________________\n",
      "fire4/relu_squeeze1x1 (Activati (None, 27, 27, 32)   0           fire4/squeeze1x1[0][0]           \n",
      "__________________________________________________________________________________________________\n",
      "fire4/expand1x1 (Conv2D)        (None, 27, 27, 128)  4224        fire4/relu_squeeze1x1[0][0]      \n",
      "__________________________________________________________________________________________________\n",
      "fire4/expand3x3 (Conv2D)        (None, 27, 27, 128)  36992       fire4/relu_squeeze1x1[0][0]      \n",
      "__________________________________________________________________________________________________\n",
      "fire4/relu_expand1x1 (Activatio (None, 27, 27, 128)  0           fire4/expand1x1[0][0]            \n",
      "__________________________________________________________________________________________________\n",
      "fire4/relu_expand3x3 (Activatio (None, 27, 27, 128)  0           fire4/expand3x3[0][0]            \n",
      "__________________________________________________________________________________________________\n",
      "fire4/concat (Concatenate)      (None, 27, 27, 256)  0           fire4/relu_expand1x1[0][0]       \n",
      "                                                                 fire4/relu_expand3x3[0][0]       \n",
      "__________________________________________________________________________________________________\n",
      "fire5/squeeze1x1 (Conv2D)       (None, 27, 27, 32)   8224        fire4/concat[0][0]               \n",
      "__________________________________________________________________________________________________\n",
      "fire5/relu_squeeze1x1 (Activati (None, 27, 27, 32)   0           fire5/squeeze1x1[0][0]           \n",
      "__________________________________________________________________________________________________\n",
      "fire5/expand1x1 (Conv2D)        (None, 27, 27, 128)  4224        fire5/relu_squeeze1x1[0][0]      \n",
      "__________________________________________________________________________________________________\n",
      "fire5/expand3x3 (Conv2D)        (None, 27, 27, 128)  36992       fire5/relu_squeeze1x1[0][0]      \n",
      "__________________________________________________________________________________________________\n",
      "fire5/relu_expand1x1 (Activatio (None, 27, 27, 128)  0           fire5/expand1x1[0][0]            \n",
      "__________________________________________________________________________________________________\n",
      "fire5/relu_expand3x3 (Activatio (None, 27, 27, 128)  0           fire5/expand3x3[0][0]            \n",
      "__________________________________________________________________________________________________\n",
      "fire5/concat (Concatenate)      (None, 27, 27, 256)  0           fire5/relu_expand1x1[0][0]       \n",
      "                                                                 fire5/relu_expand3x3[0][0]       \n",
      "__________________________________________________________________________________________________\n",
      "pool5 (MaxPooling2D)            (None, 13, 13, 256)  0           fire5/concat[0][0]               \n",
      "__________________________________________________________________________________________________\n",
      "fire6/squeeze1x1 (Conv2D)       (None, 13, 13, 48)   12336       pool5[0][0]                      \n",
      "__________________________________________________________________________________________________\n",
      "fire6/relu_squeeze1x1 (Activati (None, 13, 13, 48)   0           fire6/squeeze1x1[0][0]           \n",
      "__________________________________________________________________________________________________\n",
      "fire6/expand1x1 (Conv2D)        (None, 13, 13, 192)  9408        fire6/relu_squeeze1x1[0][0]      \n",
      "__________________________________________________________________________________________________\n",
      "fire6/expand3x3 (Conv2D)        (None, 13, 13, 192)  83136       fire6/relu_squeeze1x1[0][0]      \n",
      "__________________________________________________________________________________________________\n",
      "fire6/relu_expand1x1 (Activatio (None, 13, 13, 192)  0           fire6/expand1x1[0][0]            \n",
      "__________________________________________________________________________________________________\n",
      "fire6/relu_expand3x3 (Activatio (None, 13, 13, 192)  0           fire6/expand3x3[0][0]            \n",
      "__________________________________________________________________________________________________\n",
      "fire6/concat (Concatenate)      (None, 13, 13, 384)  0           fire6/relu_expand1x1[0][0]       \n",
      "                                                                 fire6/relu_expand3x3[0][0]       \n",
      "__________________________________________________________________________________________________\n",
      "fire7/squeeze1x1 (Conv2D)       (None, 13, 13, 48)   18480       fire6/concat[0][0]               \n",
      "__________________________________________________________________________________________________\n",
      "fire7/relu_squeeze1x1 (Activati (None, 13, 13, 48)   0           fire7/squeeze1x1[0][0]           \n",
      "__________________________________________________________________________________________________\n",
      "fire7/expand1x1 (Conv2D)        (None, 13, 13, 192)  9408        fire7/relu_squeeze1x1[0][0]      \n",
      "__________________________________________________________________________________________________\n",
      "fire7/expand3x3 (Conv2D)        (None, 13, 13, 192)  83136       fire7/relu_squeeze1x1[0][0]      \n",
      "__________________________________________________________________________________________________\n",
      "fire7/relu_expand1x1 (Activatio (None, 13, 13, 192)  0           fire7/expand1x1[0][0]            \n",
      "__________________________________________________________________________________________________\n",
      "fire7/relu_expand3x3 (Activatio (None, 13, 13, 192)  0           fire7/expand3x3[0][0]            \n",
      "__________________________________________________________________________________________________\n",
      "fire7/concat (Concatenate)      (None, 13, 13, 384)  0           fire7/relu_expand1x1[0][0]       \n",
      "                                                                 fire7/relu_expand3x3[0][0]       \n",
      "__________________________________________________________________________________________________\n",
      "fire8/squeeze1x1 (Conv2D)       (None, 13, 13, 64)   24640       fire7/concat[0][0]               \n",
      "__________________________________________________________________________________________________\n",
      "fire8/relu_squeeze1x1 (Activati (None, 13, 13, 64)   0           fire8/squeeze1x1[0][0]           \n",
      "__________________________________________________________________________________________________\n",
      "fire8/expand1x1 (Conv2D)        (None, 13, 13, 256)  16640       fire8/relu_squeeze1x1[0][0]      \n",
      "__________________________________________________________________________________________________\n",
      "fire8/expand3x3 (Conv2D)        (None, 13, 13, 256)  147712      fire8/relu_squeeze1x1[0][0]      \n",
      "__________________________________________________________________________________________________\n",
      "fire8/relu_expand1x1 (Activatio (None, 13, 13, 256)  0           fire8/expand1x1[0][0]            \n",
      "__________________________________________________________________________________________________\n",
      "fire8/relu_expand3x3 (Activatio (None, 13, 13, 256)  0           fire8/expand3x3[0][0]            \n",
      "__________________________________________________________________________________________________\n",
      "fire8/concat (Concatenate)      (None, 13, 13, 512)  0           fire8/relu_expand1x1[0][0]       \n",
      "                                                                 fire8/relu_expand3x3[0][0]       \n",
      "__________________________________________________________________________________________________\n",
      "fire9/squeeze1x1 (Conv2D)       (None, 13, 13, 64)   32832       fire8/concat[0][0]               \n",
      "__________________________________________________________________________________________________\n",
      "fire9/relu_squeeze1x1 (Activati (None, 13, 13, 64)   0           fire9/squeeze1x1[0][0]           \n",
      "__________________________________________________________________________________________________\n",
      "fire9/expand1x1 (Conv2D)        (None, 13, 13, 256)  16640       fire9/relu_squeeze1x1[0][0]      \n",
      "__________________________________________________________________________________________________\n",
      "fire9/expand3x3 (Conv2D)        (None, 13, 13, 256)  147712      fire9/relu_squeeze1x1[0][0]      \n",
      "__________________________________________________________________________________________________\n",
      "fire9/relu_expand1x1 (Activatio (None, 13, 13, 256)  0           fire9/expand1x1[0][0]            \n",
      "__________________________________________________________________________________________________\n",
      "fire9/relu_expand3x3 (Activatio (None, 13, 13, 256)  0           fire9/expand3x3[0][0]            \n",
      "__________________________________________________________________________________________________\n",
      "fire9/concat (Concatenate)      (None, 13, 13, 512)  0           fire9/relu_expand1x1[0][0]       \n",
      "                                                                 fire9/relu_expand3x3[0][0]       \n",
      "__________________________________________________________________________________________________\n",
      "drop9 (Dropout)                 (None, 13, 13, 512)  0           fire9/concat[0][0]               \n",
      "__________________________________________________________________________________________________\n",
      "conv10 (Conv2D)                 (None, 13, 13, 6)    3078        drop9[0][0]                      \n",
      "__________________________________________________________________________________________________\n",
      "relu_conv10 (Activation)        (None, 13, 13, 6)    0           conv10[0][0]                     \n",
      "__________________________________________________________________________________________________\n",
      "global_average_pooling2d_1 (Glo (None, 6)            0           relu_conv10[0][0]                \n",
      "__________________________________________________________________________________________________\n",
      "predictions (Activation)        (None, 6)            0           global_average_pooling2d_1[0][0] \n",
      "==================================================================================================\n",
      "Total params: 725,574\n",
      "Trainable params: 725,574\n",
      "Non-trainable params: 0\n",
      "__________________________________________________________________________________________________\n"
     ]
    }
   ],
   "source": [
    "model.summary()"
   ]
  },
  {
   "cell_type": "code",
   "execution_count": 7,
   "metadata": {
    "collapsed": true
   },
   "outputs": [],
   "source": [
    "model.compile(optimizer='adam', loss=\"categorical_crossentropy\", metrics=['accuracy'])"
   ]
  },
  {
   "cell_type": "code",
   "execution_count": 8,
   "metadata": {
    "collapsed": true
   },
   "outputs": [],
   "source": [
    "batch_size = 128"
   ]
  },
  {
   "cell_type": "code",
   "execution_count": 38,
   "metadata": {
    "collapsed": true
   },
   "outputs": [],
   "source": [
    "def get_batches(dirname, generator=ImageDataGenerator(), shuffle=True,\n",
    "                batch_size=batch_size, class_mode='categorical', target_size=(227,227)):\n",
    "    return generator.flow_from_directory(dirname, shuffle=shuffle, batch_size=batch_size,\n",
    "                                 class_mode=class_mode, target_size=target_size)"
   ]
  },
  {
   "cell_type": "markdown",
   "metadata": {},
   "source": [
    "The ImageDataGenerator will do standard imagenet preprocessing and some data augmentation."
   ]
  },
  {
   "cell_type": "code",
   "execution_count": 39,
   "metadata": {},
   "outputs": [
    {
     "name": "stdout",
     "output_type": "stream",
     "text": [
      "Found 3972 images belonging to 6 classes.\n",
      "Found 990 images belonging to 6 classes.\n"
     ]
    }
   ],
   "source": [
    "train_gen = ImageDataGenerator(preprocessing_function=preprocess_input,\n",
    "                                rotation_range=15, \n",
    "                                height_shift_range=0.1, \n",
    "                                shear_range=0.1,\n",
    "                                zoom_range=0.1,\n",
    "                                width_shift_range=0.1)\n",
    "train_batches = get_batches(train_dir, generator=train_gen)\n",
    "\n",
    "val_gen = ImageDataGenerator(preprocessing_function=preprocess_input)\n",
    "val_batches = get_batches(val_dir, generator=val_gen)"
   ]
  },
  {
   "cell_type": "code",
   "execution_count": 14,
   "metadata": {
    "collapsed": true
   },
   "outputs": [],
   "source": [
    "num_train = train_batches.samples\n",
    "num_val = val_batches.samples"
   ]
  },
  {
   "cell_type": "code",
   "execution_count": 40,
   "metadata": {
    "collapsed": true
   },
   "outputs": [],
   "source": [
    "def fit(model, epochs):\n",
    "    model.fit_generator(train_batches, \n",
    "                        steps_per_epoch=num_train // batch_size,\n",
    "                        epochs=epochs,\n",
    "                        validation_data=val_batches,\n",
    "                        validation_steps=num_val // batch_size)"
   ]
  },
  {
   "cell_type": "code",
   "execution_count": 41,
   "metadata": {},
   "outputs": [
    {
     "name": "stdout",
     "output_type": "stream",
     "text": [
      "Epoch 1/5\n",
      "31/31 [==============================] - 36s - loss: 1.7441 - acc: 0.3042 - val_loss: 1.3875 - val_acc: 0.5145\n",
      "Epoch 2/5\n",
      "31/31 [==============================] - 30s - loss: 1.0110 - acc: 0.6380 - val_loss: 0.5433 - val_acc: 0.8158\n",
      "Epoch 3/5\n",
      "31/31 [==============================] - 31s - loss: 0.5068 - acc: 0.8211 - val_loss: 0.2548 - val_acc: 0.9062\n",
      "Epoch 4/5\n",
      "31/31 [==============================] - 30s - loss: 0.3099 - acc: 0.8966 - val_loss: 0.1268 - val_acc: 0.9576\n",
      "Epoch 5/5\n",
      "31/31 [==============================] - 30s - loss: 0.2171 - acc: 0.9273 - val_loss: 0.0902 - val_acc: 0.9721\n"
     ]
    }
   ],
   "source": [
    "model.optimizer.lr = 0.0001\n",
    "fit(model, 5)"
   ]
  },
  {
   "cell_type": "code",
   "execution_count": 42,
   "metadata": {
    "collapsed": true
   },
   "outputs": [
    {
     "name": "stdout",
     "output_type": "stream",
     "text": [
      "Epoch 1/15\n",
      "31/31 [==============================] - 35s - loss: 0.1852 - acc: 0.9331 - val_loss: 0.0724 - val_acc: 0.9810\n",
      "Epoch 2/15\n",
      "31/31 [==============================] - 30s - loss: 0.1272 - acc: 0.9579 - val_loss: 0.0558 - val_acc: 0.9821\n",
      "Epoch 3/15\n",
      "31/31 [==============================] - 30s - loss: 0.1130 - acc: 0.9609 - val_loss: 0.0705 - val_acc: 0.9754\n",
      "Epoch 4/15\n",
      "31/31 [==============================] - 31s - loss: 0.0842 - acc: 0.9710 - val_loss: 0.0198 - val_acc: 0.9933\n",
      "Epoch 5/15\n",
      "31/31 [==============================] - 30s - loss: 0.0540 - acc: 0.9821 - val_loss: 0.0123 - val_acc: 0.9955\n",
      "Epoch 6/15\n",
      "31/31 [==============================] - 31s - loss: 0.0538 - acc: 0.9816 - val_loss: 0.0222 - val_acc: 0.9944\n",
      "Epoch 7/15\n",
      "31/31 [==============================] - 30s - loss: 0.0555 - acc: 0.9795 - val_loss: 0.0174 - val_acc: 0.9933\n",
      "Epoch 8/15\n",
      "31/31 [==============================] - 31s - loss: 0.0471 - acc: 0.9841 - val_loss: 0.0123 - val_acc: 0.9978\n",
      "Epoch 9/15\n",
      "31/31 [==============================] - 31s - loss: 0.0282 - acc: 0.9909 - val_loss: 0.0135 - val_acc: 0.9978\n",
      "Epoch 10/15\n",
      "31/31 [==============================] - 30s - loss: 0.0423 - acc: 0.9861 - val_loss: 0.0147 - val_acc: 0.9944\n",
      "Epoch 11/15\n",
      "31/31 [==============================] - 30s - loss: 0.0388 - acc: 0.9856 - val_loss: 0.0161 - val_acc: 0.9944\n",
      "Epoch 12/15\n",
      "31/31 [==============================] - 30s - loss: 0.0282 - acc: 0.9907 - val_loss: 0.0046 - val_acc: 0.9989\n",
      "Epoch 13/15\n",
      "31/31 [==============================] - 29s - loss: 0.0263 - acc: 0.9924 - val_loss: 0.0061 - val_acc: 0.9989\n",
      "Epoch 14/15\n",
      "31/31 [==============================] - 32s - loss: 0.0230 - acc: 0.9914 - val_loss: 0.0151 - val_acc: 0.9978\n",
      "Epoch 15/15\n",
      "31/31 [==============================] - 31s - loss: 0.0138 - acc: 0.9962 - val_loss: 0.0052 - val_acc: 0.9989\n"
     ]
    }
   ],
   "source": [
    "fit(model, 15)"
   ]
  },
  {
   "cell_type": "code",
   "execution_count": 43,
   "metadata": {
    "collapsed": true
   },
   "outputs": [
    {
     "name": "stdout",
     "output_type": "stream",
     "text": [
      "Epoch 1/15\n",
      "31/31 [==============================] - 36s - loss: 0.0188 - acc: 0.9929 - val_loss: 0.0090 - val_acc: 0.9989\n",
      "Epoch 2/15\n",
      "31/31 [==============================] - 30s - loss: 0.0199 - acc: 0.9945 - val_loss: 0.0086 - val_acc: 0.9978\n",
      "Epoch 3/15\n",
      "31/31 [==============================] - 30s - loss: 0.0144 - acc: 0.9955 - val_loss: 0.0059 - val_acc: 0.9978\n",
      "Epoch 4/15\n",
      "31/31 [==============================] - 31s - loss: 0.0166 - acc: 0.9942 - val_loss: 0.0010 - val_acc: 1.0000\n",
      "Epoch 5/15\n",
      "31/31 [==============================] - 30s - loss: 0.0165 - acc: 0.9952 - val_loss: 6.5666e-04 - val_acc: 1.0000\n",
      "Epoch 6/15\n",
      "31/31 [==============================] - 30s - loss: 0.0292 - acc: 0.9894 - val_loss: 0.0026 - val_acc: 1.0000\n",
      "Epoch 7/15\n",
      "31/31 [==============================] - 30s - loss: 0.0647 - acc: 0.9798 - val_loss: 0.4092 - val_acc: 0.9208\n",
      "Epoch 8/15\n",
      "31/31 [==============================] - 30s - loss: 0.1888 - acc: 0.9432 - val_loss: 0.0145 - val_acc: 0.9944\n",
      "Epoch 9/15\n",
      "31/31 [==============================] - 30s - loss: 0.0332 - acc: 0.9899 - val_loss: 0.0053 - val_acc: 0.9989\n",
      "Epoch 10/15\n",
      "31/31 [==============================] - 30s - loss: 0.0233 - acc: 0.9934 - val_loss: 0.0175 - val_acc: 0.9944\n",
      "Epoch 11/15\n",
      "31/31 [==============================] - 31s - loss: 0.0207 - acc: 0.9942 - val_loss: 0.0042 - val_acc: 0.9989\n",
      "Epoch 12/15\n",
      "31/31 [==============================] - 29s - loss: 0.0140 - acc: 0.9952 - val_loss: 6.4676e-04 - val_acc: 1.0000\n",
      "Epoch 13/15\n",
      "31/31 [==============================] - 30s - loss: 0.0165 - acc: 0.9945 - val_loss: 0.0087 - val_acc: 0.9989\n",
      "Epoch 14/15\n",
      "31/31 [==============================] - 31s - loss: 0.0062 - acc: 0.9990 - val_loss: 0.0096 - val_acc: 0.9989\n",
      "Epoch 15/15\n",
      "31/31 [==============================] - 29s - loss: 0.0165 - acc: 0.9957 - val_loss: 0.0030 - val_acc: 0.9989\n"
     ]
    }
   ],
   "source": [
    "model.optimizer.lr = 1e-6\n",
    "fit(model, 15)"
   ]
  },
  {
   "cell_type": "code",
   "execution_count": 44,
   "metadata": {},
   "outputs": [
    {
     "name": "stdout",
     "output_type": "stream",
     "text": [
      "Epoch 1/15\n",
      "31/31 [==============================] - 35s - loss: 0.0081 - acc: 0.9977 - val_loss: 0.0041 - val_acc: 0.9989\n",
      "Epoch 2/15\n",
      "31/31 [==============================] - 30s - loss: 0.0063 - acc: 0.9987 - val_loss: 7.1949e-04 - val_acc: 1.0000\n",
      "Epoch 3/15\n",
      "31/31 [==============================] - 30s - loss: 0.0086 - acc: 0.9977 - val_loss: 0.0036 - val_acc: 0.9989\n",
      "Epoch 4/15\n",
      "31/31 [==============================] - 31s - loss: 0.0063 - acc: 0.9975 - val_loss: 7.6032e-04 - val_acc: 1.0000\n",
      "Epoch 5/15\n",
      "31/31 [==============================] - 30s - loss: 0.0114 - acc: 0.9967 - val_loss: 0.0040 - val_acc: 0.9989\n",
      "Epoch 6/15\n",
      "31/31 [==============================] - 29s - loss: 0.0129 - acc: 0.9965 - val_loss: 0.0159 - val_acc: 0.9967\n",
      "Epoch 7/15\n",
      "31/31 [==============================] - 30s - loss: 0.0085 - acc: 0.9980 - val_loss: 0.0095 - val_acc: 0.9978\n",
      "Epoch 8/15\n",
      "31/31 [==============================] - 31s - loss: 0.0084 - acc: 0.9967 - val_loss: 0.0059 - val_acc: 0.9989\n",
      "Epoch 9/15\n",
      "31/31 [==============================] - 30s - loss: 0.0068 - acc: 0.9977 - val_loss: 0.0075 - val_acc: 0.9989\n",
      "Epoch 10/15\n",
      "31/31 [==============================] - 30s - loss: 0.0038 - acc: 0.9995 - val_loss: 0.0017 - val_acc: 0.9989\n",
      "Epoch 11/15\n",
      "31/31 [==============================] - 30s - loss: 0.0054 - acc: 0.9992 - val_loss: 1.7731e-04 - val_acc: 1.0000\n",
      "Epoch 12/15\n",
      "31/31 [==============================] - 29s - loss: 0.0120 - acc: 0.9967 - val_loss: 8.8635e-04 - val_acc: 1.0000\n",
      "Epoch 13/15\n",
      "31/31 [==============================] - 30s - loss: 0.0071 - acc: 0.9980 - val_loss: 2.9333e-04 - val_acc: 1.0000\n",
      "Epoch 14/15\n",
      "31/31 [==============================] - 30s - loss: 0.0028 - acc: 0.9995 - val_loss: 1.1195e-04 - val_acc: 1.0000\n",
      "Epoch 15/15\n",
      "31/31 [==============================] - 31s - loss: 0.0028 - acc: 0.9987 - val_loss: 0.0019 - val_acc: 0.9989\n"
     ]
    }
   ],
   "source": [
    "model.optimizer.lr = 5e-8\n",
    "fit(model, 15)"
   ]
  },
  {
   "cell_type": "markdown",
   "metadata": {},
   "source": [
    "Save the weights for the case they are needed again."
   ]
  },
  {
   "cell_type": "code",
   "execution_count": 45,
   "metadata": {
    "collapsed": true
   },
   "outputs": [],
   "source": [
    "model.save_weights(data_dir + 'models/model.hdf5')"
   ]
  },
  {
   "cell_type": "markdown",
   "metadata": {
    "collapsed": true
   },
   "source": [
    "To load them do\n",
    "```python\n",
    "model.load_weights(data_dir + 'models/model.hdf5')\n",
    "```"
   ]
  },
  {
   "cell_type": "markdown",
   "metadata": {},
   "source": [
    "### Export model and weights for deeplearn.js"
   ]
  },
  {
   "cell_type": "code",
   "execution_count": 10,
   "metadata": {
    "collapsed": true
   },
   "outputs": [],
   "source": [
    "import tensorflow as tf\n",
    "from keras import backend as K\n",
    "from keras.models import Model"
   ]
  },
  {
   "cell_type": "markdown",
   "metadata": {},
   "source": [
    "The deeplearn.js repository provides the script `dump_checkpoint_vars.py` which takes a tensorflow checkpoint and converts it for use with deeplearn.js. To use this, we will first save the model as a tensorflow checkpoint."
   ]
  },
  {
   "cell_type": "markdown",
   "metadata": {},
   "source": [
    "In deeplearn.js this model will only be used for inference, no training will be done. So we have to tell keras to use the model in 'inference mode' where some layers behave differently (e.g. Dropout)."
   ]
  },
  {
   "cell_type": "code",
   "execution_count": 11,
   "metadata": {
    "collapsed": true
   },
   "outputs": [],
   "source": [
    "K.set_learning_phase(0)"
   ]
  },
  {
   "cell_type": "markdown",
   "metadata": {},
   "source": [
    "The model has to be rebuilt for this to take effect:"
   ]
  },
  {
   "cell_type": "code",
   "execution_count": 12,
   "metadata": {
    "collapsed": true
   },
   "outputs": [],
   "source": [
    "config = model.get_config()\n",
    "weights = model.get_weights()\n",
    "\n",
    "model = Model.from_config(config)\n",
    "model.set_weights(weights)"
   ]
  },
  {
   "cell_type": "markdown",
   "metadata": {
    "collapsed": true
   },
   "source": [
    "Save the checkpoint:"
   ]
  },
  {
   "cell_type": "code",
   "execution_count": 13,
   "metadata": {},
   "outputs": [
    {
     "data": {
      "text/plain": [
       "'./data/models/model.ckpt'"
      ]
     },
     "execution_count": 13,
     "metadata": {},
     "output_type": "execute_result"
    }
   ],
   "source": [
    "sess = K.get_session()\n",
    "saver = tf.train.Saver()\n",
    "saver.save(sess, model_dir + 'model.ckpt')"
   ]
  },
  {
   "cell_type": "markdown",
   "metadata": {},
   "source": [
    "Use a slightly modified version of the provided script to convert the checkpoint:"
   ]
  },
  {
   "cell_type": "code",
   "execution_count": 14,
   "metadata": {
    "scrolled": true
   },
   "outputs": [
    {
     "name": "stdout",
     "output_type": "stream",
     "text": [
      "Writing variable fire6/expand3x3_1/bias as fire6/expand3x3/bias\n",
      "Writing variable fire6/expand3x3_1/kernel as fire6/expand3x3/kernel\n",
      "Writing variable fire7/expand1x1_1/bias as fire7/expand1x1/bias\n",
      "Writing variable fire7/expand1x1_1/kernel as fire7/expand1x1/kernel\n",
      "Writing variable fire3/expand1x1_1/bias as fire3/expand1x1/bias\n",
      "Writing variable fire3/expand1x1_1/kernel as fire3/expand1x1/kernel\n",
      "Writing variable fire4/squeeze1x1_1/bias as fire4/squeeze1x1/bias\n",
      "Writing variable fire4/squeeze1x1_1/kernel as fire4/squeeze1x1/kernel\n",
      "Writing variable fire7/expand3x3_1/bias as fire7/expand3x3/bias\n",
      "Writing variable fire7/expand3x3_1/kernel as fire7/expand3x3/kernel\n",
      "Writing variable fire2/expand1x1_1/bias as fire2/expand1x1/bias\n",
      "Writing variable fire2/expand1x1_1/kernel as fire2/expand1x1/kernel\n",
      "Writing variable fire2/squeeze1x1_1/bias as fire2/squeeze1x1/bias\n",
      "Writing variable fire2/squeeze1x1_1/kernel as fire2/squeeze1x1/kernel\n",
      "Writing variable conv1_1/bias as conv1/bias\n",
      "Writing variable conv1_1/kernel as conv1/kernel\n",
      "Writing variable fire6/squeeze1x1_1/bias as fire6/squeeze1x1/bias\n",
      "Writing variable fire6/squeeze1x1_1/kernel as fire6/squeeze1x1/kernel\n",
      "Writing variable fire5/squeeze1x1_1/bias as fire5/squeeze1x1/bias\n",
      "Writing variable fire5/squeeze1x1_1/kernel as fire5/squeeze1x1/kernel\n",
      "Writing variable conv10_1/bias as conv10/bias\n",
      "Writing variable conv10_1/kernel as conv10/kernel\n",
      "Writing variable fire2/expand3x3_1/bias as fire2/expand3x3/bias\n",
      "Writing variable fire2/expand3x3_1/kernel as fire2/expand3x3/kernel\n",
      "Writing variable fire9/expand1x1_1/bias as fire9/expand1x1/bias\n",
      "Writing variable fire9/expand1x1_1/kernel as fire9/expand1x1/kernel\n",
      "Writing variable fire3/expand3x3_1/bias as fire3/expand3x3/bias\n",
      "Writing variable fire3/expand3x3_1/kernel as fire3/expand3x3/kernel\n",
      "Ignoring Adam/iterations\n",
      "Ignoring Adam/lr\n",
      "Writing variable fire8/expand3x3_1/bias as fire8/expand3x3/bias\n",
      "Writing variable fire8/expand3x3_1/kernel as fire8/expand3x3/kernel\n",
      "Writing variable fire4/expand3x3_1/bias as fire4/expand3x3/bias\n",
      "Writing variable fire4/expand3x3_1/kernel as fire4/expand3x3/kernel\n",
      "Writing variable fire3/squeeze1x1_1/bias as fire3/squeeze1x1/bias\n",
      "Writing variable fire3/squeeze1x1_1/kernel as fire3/squeeze1x1/kernel\n",
      "Writing variable fire5/expand3x3_1/bias as fire5/expand3x3/bias\n",
      "Writing variable fire5/expand3x3_1/kernel as fire5/expand3x3/kernel\n",
      "Ignoring Adam/beta_1\n",
      "Ignoring Adam/beta_2\n",
      "Writing variable fire9/expand3x3_1/bias as fire9/expand3x3/bias\n",
      "Writing variable fire9/expand3x3_1/kernel as fire9/expand3x3/kernel\n",
      "Writing variable fire6/expand1x1_1/bias as fire6/expand1x1/bias\n",
      "Writing variable fire6/expand1x1_1/kernel as fire6/expand1x1/kernel\n",
      "Writing variable fire7/squeeze1x1_1/bias as fire7/squeeze1x1/bias\n",
      "Writing variable fire7/squeeze1x1_1/kernel as fire7/squeeze1x1/kernel\n",
      "Writing variable fire4/expand1x1_1/bias as fire4/expand1x1/bias\n",
      "Writing variable fire4/expand1x1_1/kernel as fire4/expand1x1/kernel\n",
      "Writing variable fire5/expand1x1_1/bias as fire5/expand1x1/bias\n",
      "Writing variable fire5/expand1x1_1/kernel as fire5/expand1x1/kernel\n",
      "Writing variable fire9/squeeze1x1_1/bias as fire9/squeeze1x1/bias\n",
      "Writing variable fire9/squeeze1x1_1/kernel as fire9/squeeze1x1/kernel\n",
      "Writing variable fire8/squeeze1x1_1/bias as fire8/squeeze1x1/bias\n",
      "Writing variable fire8/squeeze1x1_1/kernel as fire8/squeeze1x1/kernel\n",
      "Writing variable fire8/expand1x1_1/bias as fire8/expand1x1/bias\n",
      "Writing variable fire8/expand1x1_1/kernel as fire8/expand1x1/kernel\n",
      "Writing manifest to deeplearn-checkpoint/manifest.json\n",
      "Done!\n"
     ]
    }
   ],
   "source": [
    "%run dump_checkpoint_vars.py --output_dir=deeplearn-checkpoint \\\n",
    "--checkpoint_file=data/models/model.ckpt \\\n",
    "--remove_variables_regex training*|Adam*"
   ]
  },
  {
   "cell_type": "markdown",
   "metadata": {},
   "source": [
    "This should have created the folder `deeplearn-checkpoint` in the current directory."
   ]
  }
 ],
 "metadata": {
  "kernelspec": {
   "display_name": "Python 3",
   "language": "python",
   "name": "python3"
  },
  "language_info": {
   "codemirror_mode": {
    "name": "ipython",
    "version": 3
   },
   "file_extension": ".py",
   "mimetype": "text/x-python",
   "name": "python",
   "nbconvert_exporter": "python",
   "pygments_lexer": "ipython3",
   "version": "3.6.2"
  }
 },
 "nbformat": 4,
 "nbformat_minor": 2
}
